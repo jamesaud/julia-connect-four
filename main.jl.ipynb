{
 "cells": [
  {
   "cell_type": "markdown",
   "metadata": {},
   "source": [
    "### How to run your code?\n",
    "\n",
    "Running the code simply is running the cells in order on this notebook.\n",
    "\n",
    "The very last cell contains \n",
    "\n",
    "```runGame(false, true) # (monte_carlo_enabled, random_play_enabled, board_width, board_height)```\n",
    "\n",
    "Set the first argument to true to enable MonteCarlo INSTEAD of Minimax. Use the second argument to enable random play. You can also optionally set the board heigh and board width (starts as 6x7).\n",
    "\n",
    "\n",
    "\n",
    "### Question Answers\n",
    "\n",
    "**1. (10 points) Provide an upper bound for the number of positions in\n",
    "Connect Four on a 7×6 board. Explain how you derived your answer:**\n",
    "\n",
    "There are are 6x7 = 42 different \"squares\" on the board. Each place has the option of 2 \"pieces\" in it, or blank. It is a permutation of all of the squares and possible states: for the first 3 squares, it would be 3x3x3 = 27 different permutations. Therefore, the upper bound is 3^42.\n",
    "\n",
    "This upper bound isn't quite accurate though. Players must alternate turns, significantly cutting down the state space. There are many impossible states with the previous estimate taken into account. The most impactful one is that there cannot be blank squares under pieces. There are also positions that are impossible to achieve after a players achieves 4 in a row (example: the bottom row having 4 in a row, and second row completely full as well).\n",
    "\n",
    "So I leave this 3^42 as a  crude upper bound estimate that could be improved upon.\n",
    "\n",
    "**2. (15 points) Implement the game Connect Four in Julia. Implement\n",
    "the board, positions in the game, two players, moving in turns, and\n",
    "a test that determined whether the game has been won. Your implementation must detect illegal moves and raise an error when a move\n",
    "is illegal. The default board in Connect Four has a size of 7 × 6:**\n",
    "\n",
    "Implemented in the cells below. The game will end when a winning position is reached and will print the winner. Turns are taken, with the human player entering input manually and the AI making moves afterwards automatically. Illegal moves raise proper errors and displays messages to the user, allowing them to fix their mistakes.\n",
    "\n",
    "**3. (25 points) Implement an intelligent agent to play Connect Four using\n",
    "the Minimax algorithm. Use a heuristic value function to terminate\n",
    "your search early. How many plys can you look ahead? What is the\n",
    "branching factor of your game tree?**\n",
    "\n",
    "Minimax is implemented in the secion \"Minimax\". Minimax can be run (without random play) by changing the last cell to:\n",
    "\n",
    "```runGame(false, false)``` \n",
    "\n",
    "Without random moves enabled, Minimax can look 6 plays ahead in a tolerable time (less than 10 seconds). Anymore than that and it isn't very fun to play. I usually leave it at 4 plays ahead and it makes a move within a second.\n",
    "\n",
    "Enabling random moves makes minimax take quite a bit more time.\n",
    "\n",
    "The branching factor is the number of columns, which by default is 7.\n",
    "\n",
    "**(15 points) Consider a modified version of the Connect Four game in\n",
    "which both players have one additional type of move they can play:\n",
    "randomly drop one stone in an open column and force the next player\n",
    "to also randomly drop one stone in an open column. Modify your\n",
    "algorithm to play this modified version of Connect Four:**\n",
    "\n",
    "Random is enabled by setting the second parameter in runGame:\n",
    "\n",
    "```runGame(false, true)``` \n",
    "\n",
    "-1 is what you should enter as input to make a random move (instructions are printed when you start a game).\n",
    "\n",
    "**(35 points) Modify your agent to use Monte Carlo Tree Search instead\n",
    "of the Minimax algorithm. You can use a random playout or design\n",
    "a different strategy.**\n",
    "\n",
    "Tree search is implemented in the \"MonteCarlo\" section, using random playout.\n",
    "\n",
    "\n",
    "### Email Questions\n",
    "\n",
    "**What are the assumptions you made (your heuristic, your design decisions and justifications to those decisions, and the answers to the question)?**\n",
    "\n",
    "**Design decisions includes number of plays ahead, the way you designed your random move and the exploration constant and the number of simulations in MCST?**\n",
    "\n",
    "MINIMAX algorithm heuristic works as follows:\n",
    "\n",
    "- Check the lookup table: \n",
    "\n",
    "\n",
    "    \"win\" => 1000,\n",
    "    \"lose\" => -1000,\n",
    "    \"draw\" => 0,\n",
    "    3 connected pieces => 3*3 (9 points), \n",
    "    2 connected pieces => 2*2 (3 points),\n",
    "    1 connected piece =>  1*1 (1 point)\n",
    "    \n",
    "    \n",
    "- A player's score is calculated by scanning the entire board and adding the number of connected pieces.\n",
    "    \n",
    "\n",
    "- Additionally, the number of blanks surrounding a piece are taken into account. For each piece on the board, it adds the following score:\n",
    "\n",
    "\n",
    "    \"3 blanks\" => 3/10 of a point\n",
    "    \"2 blanks\" => 2/10 of a point\n",
    "    \"1 blank\"  => 1/10 of a point\n",
    "    \n",
    "    \n",
    "- This essentially works as a tie breaker for moves that make the same number of connected pieces on the board. Having more blanks (such as playing in the center of the board at the beginning) is better.\n",
    "   \n",
    "   \n",
    "- Of course, winning (4 or more connected pieces in the implementation) is worth a lot of points.\n",
    "\n",
    "   \n",
    "- The board is scanned by the algorithm and points are assessed for both players. In order to calculate the current player's score, you take the difference of the 2 players.\n",
    "\n",
    "\n",
    "*In the coded implementation, the score is always computed considering the second player as the Max player. The first player tries to minimize their score, and the second player tries to maximize their score.\n",
    "\n",
    "Justification:\n",
    "This strategy seems intuitively like a fair way to score. The more connected pieces you have, the closer you are to winning. Furthermore, 2 connected pieces is better than 2 separated pieces, so it is weighted more. The real justification is that this algorithm beats me every time I play!\n",
    "\n",
    "\n",
    "-----\n",
    "\n",
    "MONTECARLO is as follows:\n",
    "\n",
    "Use the following policy to check for \"common sense\" play: \n",
    "\n",
    "- If you can win with the next move, make it.\n",
    "- If the opponent is going to win after your next move, don't make that move!\n",
    "\n",
    "After this selection doesn't apply, then move to expansion and simulation. \n",
    "\n",
    "\n",
    "Expnasion & Simulation: Simulation is limited to 3 seconds, which simulates over 40,000 unique states. Random Play from both players initially when there are no stats available. If there are stats available for states, it will choose states with a higher win rate to sample statistcally more (weighted proportinally) over other states. There is a certain probability (1 - highest_win_rate) to randomly select a new unexplored state instead as well.\n",
    "\n",
    "I took the design decision to not limit the branching factor in this montecarlo algorithm. The reason being that 7 moves is not very many, and that way you don't miss any obvious moves.\n",
    "\n",
    "I think it is an intuitive design for monte-carlo to work. Use random moves (especially when the branching factor is so small) to choose the next states. If stats are available about the win rates, then utilize this information to explore those states more frequently (statistically determined).\n",
    "\n",
    "MonteCarlo also plays quite well, and I have a tough time beating it (depending on how much time is given to the algorithm).\n"
   ]
  },
  {
   "cell_type": "code",
   "execution_count": 4,
   "metadata": {},
   "outputs": [],
   "source": [
    "include(\"./game.jl\")\n",
    "include(\"./board.jl\")\n",
    "using .game\n",
    "using Random\n",
    "using Statistics"
   ]
  },
  {
   "cell_type": "code",
   "execution_count": 14,
   "metadata": {},
   "outputs": [
    {
     "data": {
      "text/plain": [
       "4"
      ]
     },
     "execution_count": 14,
     "metadata": {},
     "output_type": "execute_result"
    }
   ],
   "source": [
    "# Change these variables if desired\n",
    "MONTO_CARLO_DURATION = 4    # Seconds\n",
    "MINIMAX_MOVES_AHEAD = 4"
   ]
  },
  {
   "cell_type": "markdown",
   "metadata": {},
   "source": [
    "### Helper functions"
   ]
  },
  {
   "cell_type": "code",
   "execution_count": 6,
   "metadata": {},
   "outputs": [
    {
     "data": {
      "text/plain": [
       "randomMove (generic function with 1 method)"
      ]
     },
     "execution_count": 6,
     "metadata": {},
     "output_type": "execute_result"
    }
   ],
   "source": [
    "function generate_possible_games(mygame::game.Game)\n",
    "    moves = game.available_moves(mygame)\n",
    "    new_games = game.Game[]\n",
    "\n",
    "    # Make all new possible moves\n",
    "    for move in moves\n",
    "        new_game = deepcopy(mygame)\n",
    "        game.move(new_game, move)\n",
    "        push!(new_games, new_game)\n",
    "    end \n",
    "    return new_games\n",
    "end\n",
    "\n",
    "\n",
    "function randomMove(mygame::game.Game)\n",
    "    moves = game.available_moves(mygame)\n",
    "    choice = rand(1:length(moves))\n",
    "    move = moves[choice]\n",
    "    return move \n",
    "end\n"
   ]
  },
  {
   "cell_type": "markdown",
   "metadata": {},
   "source": [
    "# Minimax"
   ]
  },
  {
   "cell_type": "code",
   "execution_count": 7,
   "metadata": {},
   "outputs": [
    {
     "data": {
      "text/plain": [
       "evaluation (generic function with 2 methods)"
      ]
     },
     "execution_count": 7,
     "metadata": {},
     "output_type": "execute_result"
    }
   ],
   "source": [
    "RANDOM_MOVE = -1\n",
    "\n",
    "\n",
    "# Values for minimax\n",
    "SCORES = Dict{Union{String, Integer}, Integer}(\n",
    "    \"win\" => 1000,\n",
    "    \"lose\" => -1000,\n",
    "    \"draw\" => 0,\n",
    "\n",
    "    # For connecting multiple pieces\n",
    "    4 => 1000,\n",
    "    3 => 3,\n",
    "    2 => 2,\n",
    "    1 => 1,\n",
    ")\n",
    "\n",
    "function minimax(mygame::game.Game, random_play)\n",
    "    cur_depth = 0\n",
    "    max_depth = MINIMAX_MOVES_AHEAD\n",
    "    cost, move = mm(cur_depth, max_depth, mygame, true, random_play)\n",
    "    return move\n",
    "end\n",
    "\n",
    "\n",
    "# Returns (score, move) tuple\n",
    "function mm(cur_depth::Int64, max_depth::Int64, mygame::game.Game, hero=true, random_play=false)\n",
    "    \n",
    "    # Hero is the max_player\n",
    "    if (cur_depth > max_depth) | game.winner(mygame) | game.finished(mygame)\n",
    "        # Always considered 'max' for player 1. Sooner wins are better.\n",
    "        return evaluation(mygame) - cur_depth, mygame.lastMove\n",
    "    end\n",
    "\n",
    "    # Recursive\n",
    "    choices = []\n",
    "    for gm in generate_possible_games(mygame)\n",
    "        score, _ = mm(cur_depth + 1, max_depth, gm, !hero)\n",
    "        push!(choices, (score=score, move=gm.lastMove.y))\n",
    "    end\n",
    "\n",
    "    # Random Move\n",
    "    if random_play\n",
    "        random_scores = []\n",
    "        for gm in generate_possible_games(mygame)\n",
    "            winner = game.winner(gm)                        # max_player won by making this move\n",
    "            for g in generate_possible_games(mygame)\n",
    "                if winner                                   # Won/lost on the last move\n",
    "                    score = evaluation(mygame) - cur_depth\n",
    "                else      \n",
    "                    score, _ = mm(cur_depth + 2, max_depth, gm, hero)\n",
    "                end\n",
    "                push!(random_scores, score)\n",
    "            end\n",
    "        end\n",
    "        random_score = mean(random_scores)   # Take the average score\n",
    "        push!(choices, (score=random_score, move=RANDOM_MOVE))\n",
    "    end\n",
    "\n",
    "    \n",
    "    shuffle!(choices)   # Make different moves that are the same value\n",
    "    fn(x) = x.score  # Gets the cost from the returned (cost, move) tuple\n",
    "    findfn = hero ? findmax : findmin\n",
    "    \n",
    "    val, choice_index = findfn(map(fn, choices)) \n",
    "    \n",
    "    best_move = choices[choice_index].move\n",
    "    return val, best_move\n",
    "end\n",
    "\n",
    "\n",
    "# Minimax Evaluation Function, hero_index set to 2 because the player 2 is always the MAX player\n",
    "function evaluation(mygame::game.Game, hero_index=2)  \n",
    "    if game.finished(mygame) # Tie\n",
    "        return 0\n",
    "    end\n",
    "\n",
    "    state = mygame.board.state\n",
    "    fns = [game._checkVertical, game._checkDiagonal1, game._checkDiagonal2, game._checkHorizontal] \n",
    "\n",
    "    # Evaluate score for both players, then subtract\n",
    "    players = mygame.players\n",
    "    row, col, = size(state)\n",
    "\n",
    "    # Scores for each player\n",
    "    scores = Dict{String, Float64}()\n",
    "    for player in players\n",
    "        scores[player.token] = 0\n",
    "    end\n",
    "\n",
    "    # Loop through board\n",
    "    for i = 1:row; for j = 1:col\n",
    "        token = state[i, j]\n",
    "        \n",
    "        if token == gameboard.FILLER_CHAR \n",
    "            continue\n",
    "        end\n",
    "\n",
    "        # Otherwise, it's a player's character, so calculate SCORES\n",
    "        # Currently, calculating connected pieces multiple times but that should be okay\n",
    "        # A three connection will be calculated three times, two connection two times, 1 connection 1 time\n",
    "        # So 3*3, 2*2, 1*1 weighting to the scores\n",
    "        score = 0\n",
    "        for fn in fns\n",
    "            connected = fn(mygame, i, j)\n",
    "            connected = min(connected, 4)    # connection of 5, 6, 7, etc don't mean anything\n",
    "            score += SCORES[connected]\n",
    "        end\n",
    "        score -= length(fns) - 1             # Prevent counting the same [i, j] multiple times \n",
    "\n",
    "        # check_blanks is essiantly a tie breaker for moves - it's always better to have more connected pieces though\n",
    "        score += game._checkBlanks(mygame, i, j) / 10    \n",
    "        scores[token] += score\n",
    "    end; end\n",
    "\n",
    "    player_scores = Float64[]   # Scores for each player, set at the same index of the player\n",
    "    for player in players\n",
    "        push!(player_scores, scores[player.token])\n",
    "    end\n",
    "\n",
    "    hero = player_scores[hero_index] \n",
    "    enemy = sum(player_scores) - hero\n",
    "    return hero - enemy\n",
    "end"
   ]
  },
  {
   "cell_type": "markdown",
   "metadata": {},
   "source": [
    "# Monte Carlo"
   ]
  },
  {
   "cell_type": "code",
   "execution_count": 8,
   "metadata": {
    "scrolled": true
   },
   "outputs": [
    {
     "data": {
      "text/plain": [
       "expansion (generic function with 1 method)"
      ]
     },
     "execution_count": 8,
     "metadata": {},
     "output_type": "execute_result"
    }
   ],
   "source": [
    "function expansion(mygame, states)\n",
    "    # Expand statistically and proportinally to the next states. Returns the move to make\n",
    "    mygame = deepcopy(mygame)\n",
    "    moves = []\n",
    "    unexplored = []\n",
    "    \n",
    "    for gm in generate_possible_games(mygame)\n",
    "        stats = get(states, gm.board.state, 0)\n",
    "        if stats == 0  # Unvisited state\n",
    "            win_rate = -1\n",
    "            push!(unexplored, gm.lastMove.y)\n",
    "        else\n",
    "            win_rate = stats.wins / (stats.wins + stats.losses)\n",
    "            push!(moves, (win_rate=win_rate, move=gm.lastMove.y))\n",
    "        end\n",
    "    end\n",
    "    \n",
    "    # No stats on the current moves yet, so pick a random one \n",
    "    if length(moves) == 0\n",
    "        return game.randomMove(mygame)\n",
    "    end\n",
    "    \n",
    "    # Find max win rate\n",
    "    max_win_rate = -1\n",
    "    for (win_rate, move) in moves\n",
    "        if win_rate > max_win_rate\n",
    "           max_win_rate = win_rate \n",
    "        end\n",
    "    end\n",
    "    \n",
    "    # Explore new state with probabliity 1 - max_win_rate\n",
    "    if rand() > max_win_rate\n",
    "        if length(unexplored) == 0\n",
    "            return game.randomMove(mygame)\n",
    "        end\n",
    "        choice = rand(1:length(unexplored))\n",
    "        move = unexplored[choice]\n",
    "        return move          \n",
    "    end\n",
    "    \n",
    "    # Otherwise, return new move probabilistically determined by weighted win rate of states\n",
    "    # State with more wins will be explored more\n",
    "\n",
    "    moves = sort(moves, by = x -> x.win_rate)  # Sort by win rate\n",
    "    \n",
    "    for (win_rate, move) in moves\n",
    "       if rand() < win_rate\n",
    "            return move\n",
    "       end\n",
    "    end\n",
    "    return moves[length(moves)].move\n",
    "\n",
    "end\n",
    "    "
   ]
  },
  {
   "cell_type": "code",
   "execution_count": 9,
   "metadata": {},
   "outputs": [
    {
     "data": {
      "text/plain": [
       "monteCarloSimulation (generic function with 1 method)"
      ]
     },
     "execution_count": 9,
     "metadata": {},
     "output_type": "execute_result"
    }
   ],
   "source": [
    "WIN = 1\n",
    "LOSE = -1\n",
    "TIE = 0\n",
    "\n",
    "\n",
    "struct MonteCarlo\n",
    "    # Dictionary of {board.state: Stats} - access any state quickly, and return the stats associated with it\n",
    "    # AKA quick access to the game tree\n",
    "    states\n",
    "    game       # Current game (initial state and root of the tree) \n",
    "end\n",
    "\n",
    "\n",
    "# Utility function\n",
    "function makeMonteCarlo(mygame)\n",
    "    mc = MonteCarlo(Dict(), mygame)\n",
    "    add_state(mygame, mc.states)\n",
    "    return mc\n",
    "end\n",
    "\n",
    "\n",
    "mutable struct Stats\n",
    "    game::Any            # Type game.Game: keep meta about the game that was playe\n",
    "    wins::Integer  \n",
    "    losses::Integer  \n",
    "    ties::Integer    \n",
    "    parents::Any  # Set of states: keep track parent states\n",
    "    children::Any # Set of states: keep track of children states\n",
    "end\n",
    "\n",
    "\n",
    "# Add a new state to the tree\n",
    "function add_state(mygame, states, parent=nothing)\n",
    "    # If state doesn't exist yet, add it\n",
    "    state = mygame.board.state\n",
    "    stats = get(states, state, 0)\n",
    "\n",
    "    if stats == 0  # Doesn't exist yet\n",
    "        stats = Stats(deepcopy(mygame), 0, 0, 0, Set(), Set())\n",
    "        states[mygame.board.state] = stats\n",
    "    end\n",
    "\n",
    "    if parent != nothing\n",
    "        push!(states[parent].children, state)\n",
    "        push!(stats.parents, parent)\n",
    "    end\n",
    "end\n",
    "\n",
    "\n",
    "    \n",
    "# Return the end state from a random simulation, and who is the winner (or tie)\n",
    "function simulation(state, states)\n",
    "    mygame = states[state].game\n",
    "    mygame = deepcopy(mygame)\n",
    "    turn = mygame.turn\n",
    "\n",
    "    # EXPANSION\n",
    "    #move = expansion(mygame, states)\n",
    "    game.moveRandom(mygame)\n",
    "    add_state(mygame, states, state)\n",
    "    # END\n",
    "    \n",
    "    if game.winner(mygame)\n",
    "        return turn, mygame.board.state\n",
    "    elseif game.finished(mygame)        # Tie Game\n",
    "        return 0, mygame.board.state\n",
    "    else\n",
    "        # SIMULATE UNTIL END STATE\n",
    "        return simulation(mygame.board.state, states)\n",
    "    end\n",
    "end\n",
    "\n",
    "# Backpropogate receursively up the tree given a finished state \n",
    "function backpropogation(state, states, outcome)\n",
    "    # TIE, WIN, AND LOSS\n",
    "    @assert -1 <= outcome <= 1\n",
    "\n",
    "    for pstate in states[state].parents\n",
    "        pstat = states[pstate]\n",
    "        if outcome == WIN\n",
    "            pstat.wins += 1\n",
    "        elseif outcome == LOSE\n",
    "            pstat.losses += 1\n",
    "        elseif outcome == TIE\n",
    "            pstat.ties += 1\n",
    "        end\n",
    "\n",
    "        # RECURSIVELY BACKPROP UP THE TREE\n",
    "        backpropogation(pstate, states, outcome)\n",
    "    end\n",
    "end\n",
    "\n",
    "# Run simulation recursively one time, and backpropogate to fill the stats\n",
    "function simulate_and_backprop(mc::MonteCarlo)\n",
    "    winner, end_state = simulation(mc.game.board.state, mc.states)\n",
    "\n",
    "    if winner == mc.game.turn\n",
    "        outcome = WIN\n",
    "    elseif winner == game.nextTurn(mc.game)\n",
    "        outcome = LOSE\n",
    "    elseif winner == 0\n",
    "        outcome = TIE\n",
    "    else\n",
    "        outcome = nothing\n",
    "    end\n",
    "\n",
    "    # UPDATE AND BACKPROP\n",
    "    backpropogation(end_state, mc.states, outcome)\n",
    "    return winner, end_state\n",
    "end\n",
    "\n",
    "\n",
    "# Make the game winning move if it's available\n",
    "# AKA - don't be stupid\n",
    "function policyMove(mc::MonteCarlo)\n",
    "    curr_state = mc.game.board.state\n",
    "    curr_stats = mc.states[curr_state]\n",
    "\n",
    "    # Make the move to win\n",
    "    for state in curr_stats.children\n",
    "        stats = mc.states[state]\n",
    "        if game.winner(stats.game)\n",
    "            return stats.game.lastMove.y\n",
    "        end\n",
    "    end\n",
    "    return nothing\n",
    "end\n",
    "\n",
    "# A policy that says which moves not to do\n",
    "# Decides if 1 move in the future results in a win for the opponent, don't do it\n",
    "# AKA - don't be stupid\n",
    "function policyDontMove(mc::MonteCarlo)\n",
    "    curr_state = mc.game.board.state\n",
    "    curr_stats = mc.states[curr_state]\n",
    "\n",
    "    # Don't make an immediately stupid move\n",
    "    bad_moves = []\n",
    "    for state1 in curr_stats.children\n",
    "        stats1 = mc.states[state1] \n",
    "        for state2 in mc.states[state1].children\n",
    "            stats = mc.states[state2]\n",
    "\n",
    "            # If player lost the game, don't make the move\n",
    "            if game.winner(stats.game)\n",
    "                push!(bad_moves, stats1.game.lastMove.y)\n",
    "            end\n",
    "        end\n",
    "    end\n",
    "    return bad_moves\n",
    "end\n",
    "\n",
    "\n",
    "# Finds the next best move after a simulation has occured\n",
    "function nextBestMove(mc::MonteCarlo, random_enabled)\n",
    "\n",
    "    # SELECTION\n",
    "    policy_move = policyMove(mc)\n",
    "\n",
    "    if policy_move != nothing\n",
    "        return policy_move\n",
    "    end\n",
    "\n",
    "    bad_moves = policyDontMove(mc)\n",
    "    # END SELECTION\n",
    "\n",
    "    curr_state = mc.game.board.state\n",
    "    curr_stats = mc.states[curr_state]\n",
    "    best_win_rate, best_move = -1, -1\n",
    "\n",
    "    # LOOK AT STATS FROM SIMULATION \n",
    "    for state in curr_stats.children\n",
    "        stats = mc.states[state]\n",
    "        wins, losses = stats.wins, stats.losses\n",
    "        win_rate = wins / (wins + losses)\n",
    "        move = stats.game.lastMove.y\n",
    "\n",
    "        if move in bad_moves\n",
    "            continue\n",
    "        elseif win_rate > best_win_rate\n",
    "            best_win_rate = win_rate\n",
    "            best_move = move  \n",
    "        end \n",
    "    end\n",
    "    \n",
    "    # Return make-random-move if going to lose in all random simulations\n",
    "    if best_win_rate == 0 && random_enabled\n",
    "        return -1\n",
    "    end\n",
    "    \n",
    "    return best_move\n",
    "end\n",
    "\n",
    "# Pass a game state, and do a simulation on it to find the best move\n",
    "function monteCarloSimulation(mygame, random_enabled)\n",
    "    mygame = deepcopy(mygame)\n",
    "    mc = makeMonteCarlo(mygame)\n",
    "\n",
    "    duration = MONTO_CARLO_DURATION # seconds\n",
    "    start = finish = time()\n",
    "    while finish - start < duration\n",
    "        finish = time()\n",
    "        simulate_and_backprop(mc)\n",
    "    end \n",
    "\n",
    "    move = nextBestMove(mc, random_enabled)\n",
    "    return move\n",
    "end"
   ]
  },
  {
   "cell_type": "markdown",
   "metadata": {},
   "source": [
    "# Run the game"
   ]
  },
  {
   "cell_type": "code",
   "execution_count": 10,
   "metadata": {},
   "outputs": [
    {
     "data": {
      "text/plain": [
       "getUserInput (generic function with 1 method)"
      ]
     },
     "execution_count": 10,
     "metadata": {},
     "output_type": "execute_result"
    }
   ],
   "source": [
    "STOP = \"stop\"\n",
    "\n",
    "function makeAiMove(mygame::game.Game, random_enabled, monte_carlo=false)\n",
    "    if monte_carlo\n",
    "        move = monteCarloSimulation(mygame, random_enabled)\n",
    "    else\n",
    "        move = minimax(mygame, random_enabled)\n",
    "    end\n",
    "    return move\n",
    "end\n",
    "\n",
    "function runGame(use_monte_carlo=false::Bool, random_enabled=true::Bool, board_width=7, board_height=6)\n",
    "    mygame = game.initializeGame(\"Human\", \"Computer\", board_height, board_width)\n",
    "    display(mygame.board.state)\n",
    "    println()\n",
    "\n",
    "    users_turn = true\n",
    "    force_random_move = false    # Force random move for the next move\n",
    "    \n",
    "    println(\"Please enter the correct column to play a piece. Computer will play automatically. If random is enabled, enter '-1' to play a random move. To stop the game, enter 'stop'\")\n",
    "    \n",
    "    while !game.winner(mygame) && !game.finished(mygame)\n",
    "        if !force_random_move\n",
    "            move = users_turn ? makeUserMove(mygame) : makeAiMove(mygame, random_enabled, use_monte_carlo)\n",
    "            if move == STOP\n",
    "                print(\"Game stopped by user\")\n",
    "                return\n",
    "            end\n",
    "        end\n",
    "\n",
    "        if force_random_move || (move == RANDOM_MOVE) \n",
    "            move = game.randomMove(mygame)\n",
    "            force_random_move = !force_random_move #  Change to true if the next player needs to make a random move, or false if it's the second player's move\n",
    "        end\n",
    "        \n",
    "        println(\"Moving: \", move)\n",
    "        game.move(mygame, move)\n",
    "        users_turn = !users_turn\n",
    "        display(mygame.board.state)\n",
    "        println()\n",
    "    end\n",
    "\n",
    "    if game.winner(mygame)\n",
    "        msg = string(game.previousPlayer(mygame).name, \" wins!\")\n",
    "    else\n",
    "        msg = \"It's a draw.\" \n",
    "    end\n",
    "    println(\"Game finished! $msg\")\n",
    "end\n",
    "\n",
    "function makeUserMove(mygame::game.Game)\n",
    "    while true\n",
    "        move = getUserInput()\n",
    "        if move == RANDOM_MOVE\n",
    "            return RANDOM_MOVE\n",
    "        elseif move == STOP\n",
    "            return STOP\n",
    "        end\n",
    "        try\n",
    "            game.validate_move_row(mygame, move)\n",
    "            return move\n",
    "        catch error\n",
    "            println(error)\n",
    "        end\n",
    "    end\n",
    "    \n",
    "end\n",
    "\n",
    "function getUserInput()\n",
    "    move = nothing\n",
    "    while true\n",
    "        print(\"Your move: \")\n",
    "        try\n",
    "            move = readline(stdin)\n",
    "            if move == STOP\n",
    "                return move\n",
    "            end\n",
    "            move = parse(Int64, move)\n",
    "            break\n",
    "        catch error\n",
    "            println(\"Please enter a valid column number\")\n",
    "        end\n",
    "    end\n",
    "    return move\n",
    "end"
   ]
  },
  {
   "cell_type": "markdown",
   "metadata": {},
   "source": [
    "# Run Game"
   ]
  },
  {
   "cell_type": "code",
   "execution_count": null,
   "metadata": {
    "scrolled": false
   },
   "outputs": [
    {
     "data": {
      "text/plain": [
       "6×7 Array{String,2}:\n",
       " \"-\"  \"-\"  \"-\"  \"-\"  \"-\"  \"-\"  \"-\"\n",
       " \"-\"  \"-\"  \"-\"  \"-\"  \"-\"  \"-\"  \"-\"\n",
       " \"-\"  \"-\"  \"-\"  \"-\"  \"-\"  \"-\"  \"-\"\n",
       " \"-\"  \"-\"  \"-\"  \"-\"  \"-\"  \"-\"  \"-\"\n",
       " \"-\"  \"-\"  \"-\"  \"-\"  \"-\"  \"-\"  \"-\"\n",
       " \"-\"  \"-\"  \"-\"  \"-\"  \"-\"  \"-\"  \"-\""
      ]
     },
     "metadata": {},
     "output_type": "display_data"
    },
    {
     "name": "stdout",
     "output_type": "stream",
     "text": [
      "\n",
      "Please enter the correct column to play a piece. Computer will play automatically. If random is enabled, enter '-1' to play a random move. To stop the game, enter 'stop'\n",
      "Your move: stdin> 4\n"
     ]
    },
    {
     "data": {
      "text/plain": [
       "6×7 Array{String,2}:\n",
       " \"-\"  \"-\"  \"-\"  \"-\"  \"-\"  \"-\"  \"-\"\n",
       " \"-\"  \"-\"  \"-\"  \"-\"  \"-\"  \"-\"  \"-\"\n",
       " \"-\"  \"-\"  \"-\"  \"-\"  \"-\"  \"-\"  \"-\"\n",
       " \"-\"  \"-\"  \"-\"  \"-\"  \"-\"  \"-\"  \"-\"\n",
       " \"-\"  \"-\"  \"-\"  \"-\"  \"-\"  \"-\"  \"-\"\n",
       " \"-\"  \"-\"  \"-\"  \"X\"  \"-\"  \"-\"  \"-\""
      ]
     },
     "metadata": {},
     "output_type": "display_data"
    },
    {
     "name": "stdout",
     "output_type": "stream",
     "text": [
      "Moving: 4\n",
      "\n"
     ]
    },
    {
     "data": {
      "text/plain": [
       "6×7 Array{String,2}:\n",
       " \"-\"  \"-\"  \"-\"  \"-\"  \"-\"  \"-\"  \"-\"\n",
       " \"-\"  \"-\"  \"-\"  \"-\"  \"-\"  \"-\"  \"-\"\n",
       " \"-\"  \"-\"  \"-\"  \"-\"  \"-\"  \"-\"  \"-\"\n",
       " \"-\"  \"-\"  \"-\"  \"-\"  \"-\"  \"-\"  \"-\"\n",
       " \"-\"  \"-\"  \"-\"  \"-\"  \"-\"  \"-\"  \"-\"\n",
       " \"-\"  \"-\"  \"-\"  \"X\"  \"O\"  \"-\"  \"-\""
      ]
     },
     "metadata": {},
     "output_type": "display_data"
    },
    {
     "name": "stdout",
     "output_type": "stream",
     "text": [
      "Moving: 5\n",
      "\n",
      "Your move: stdin> -1\n"
     ]
    },
    {
     "data": {
      "text/plain": [
       "6×7 Array{String,2}:\n",
       " \"-\"  \"-\"  \"-\"  \"-\"  \"-\"  \"-\"  \"-\"\n",
       " \"-\"  \"-\"  \"-\"  \"-\"  \"-\"  \"-\"  \"-\"\n",
       " \"-\"  \"-\"  \"-\"  \"-\"  \"-\"  \"-\"  \"-\"\n",
       " \"-\"  \"-\"  \"-\"  \"-\"  \"-\"  \"-\"  \"-\"\n",
       " \"-\"  \"-\"  \"-\"  \"X\"  \"-\"  \"-\"  \"-\"\n",
       " \"-\"  \"-\"  \"-\"  \"X\"  \"O\"  \"-\"  \"-\""
      ]
     },
     "metadata": {},
     "output_type": "display_data"
    },
    {
     "data": {
      "text/plain": [
       "6×7 Array{String,2}:\n",
       " \"-\"  \"-\"  \"-\"  \"-\"  \"-\"  \"-\"  \"-\"\n",
       " \"-\"  \"-\"  \"-\"  \"-\"  \"-\"  \"-\"  \"-\"\n",
       " \"-\"  \"-\"  \"-\"  \"-\"  \"-\"  \"-\"  \"-\"\n",
       " \"-\"  \"-\"  \"-\"  \"-\"  \"-\"  \"-\"  \"-\"\n",
       " \"-\"  \"-\"  \"-\"  \"X\"  \"-\"  \"-\"  \"-\"\n",
       " \"-\"  \"-\"  \"O\"  \"X\"  \"O\"  \"-\"  \"-\""
      ]
     },
     "metadata": {},
     "output_type": "display_data"
    },
    {
     "name": "stdout",
     "output_type": "stream",
     "text": [
      "Moving: 4\n",
      "\n",
      "Moving: 3\n",
      "\n",
      "Your move: stdin> -1\n"
     ]
    },
    {
     "data": {
      "text/plain": [
       "6×7 Array{String,2}:\n",
       " \"-\"  \"-\"  \"-\"  \"-\"  \"-\"  \"-\"  \"-\"\n",
       " \"-\"  \"-\"  \"-\"  \"-\"  \"-\"  \"-\"  \"-\"\n",
       " \"-\"  \"-\"  \"-\"  \"-\"  \"-\"  \"-\"  \"-\"\n",
       " \"-\"  \"-\"  \"-\"  \"-\"  \"-\"  \"-\"  \"-\"\n",
       " \"-\"  \"-\"  \"-\"  \"X\"  \"X\"  \"-\"  \"-\"\n",
       " \"-\"  \"-\"  \"O\"  \"X\"  \"O\"  \"-\"  \"-\""
      ]
     },
     "metadata": {},
     "output_type": "display_data"
    },
    {
     "data": {
      "text/plain": [
       "6×7 Array{String,2}:\n",
       " \"-\"  \"-\"  \"-\"  \"-\"  \"-\"  \"-\"  \"-\"\n",
       " \"-\"  \"-\"  \"-\"  \"-\"  \"-\"  \"-\"  \"-\"\n",
       " \"-\"  \"-\"  \"-\"  \"-\"  \"-\"  \"-\"  \"-\"\n",
       " \"-\"  \"-\"  \"-\"  \"O\"  \"-\"  \"-\"  \"-\"\n",
       " \"-\"  \"-\"  \"-\"  \"X\"  \"X\"  \"-\"  \"-\"\n",
       " \"-\"  \"-\"  \"O\"  \"X\"  \"O\"  \"-\"  \"-\""
      ]
     },
     "metadata": {},
     "output_type": "display_data"
    },
    {
     "name": "stdout",
     "output_type": "stream",
     "text": [
      "Moving: 5\n",
      "\n",
      "Moving: 4\n",
      "\n",
      "Your move: stdin> -1\n"
     ]
    },
    {
     "data": {
      "text/plain": [
       "6×7 Array{String,2}:\n",
       " \"-\"  \"-\"  \"-\"  \"-\"  \"-\"  \"-\"  \"-\"\n",
       " \"-\"  \"-\"  \"-\"  \"-\"  \"-\"  \"-\"  \"-\"\n",
       " \"-\"  \"-\"  \"-\"  \"-\"  \"-\"  \"-\"  \"-\"\n",
       " \"-\"  \"-\"  \"-\"  \"O\"  \"-\"  \"-\"  \"-\"\n",
       " \"-\"  \"-\"  \"X\"  \"X\"  \"X\"  \"-\"  \"-\"\n",
       " \"-\"  \"-\"  \"O\"  \"X\"  \"O\"  \"-\"  \"-\""
      ]
     },
     "metadata": {},
     "output_type": "display_data"
    },
    {
     "data": {
      "text/plain": [
       "6×7 Array{String,2}:\n",
       " \"-\"  \"-\"  \"-\"  \"-\"  \"-\"  \"-\"  \"-\"\n",
       " \"-\"  \"-\"  \"-\"  \"-\"  \"-\"  \"-\"  \"-\"\n",
       " \"-\"  \"-\"  \"-\"  \"O\"  \"-\"  \"-\"  \"-\"\n",
       " \"-\"  \"-\"  \"-\"  \"O\"  \"-\"  \"-\"  \"-\"\n",
       " \"-\"  \"-\"  \"X\"  \"X\"  \"X\"  \"-\"  \"-\"\n",
       " \"-\"  \"-\"  \"O\"  \"X\"  \"O\"  \"-\"  \"-\""
      ]
     },
     "metadata": {},
     "output_type": "display_data"
    },
    {
     "name": "stdout",
     "output_type": "stream",
     "text": [
      "Moving: 3\n",
      "\n",
      "Moving: 4\n",
      "\n",
      "Your move: stdin> 2\n"
     ]
    },
    {
     "data": {
      "text/plain": [
       "6×7 Array{String,2}:\n",
       " \"-\"  \"-\"  \"-\"  \"-\"  \"-\"  \"-\"  \"-\"\n",
       " \"-\"  \"-\"  \"-\"  \"-\"  \"-\"  \"-\"  \"-\"\n",
       " \"-\"  \"-\"  \"-\"  \"O\"  \"-\"  \"-\"  \"-\"\n",
       " \"-\"  \"-\"  \"-\"  \"O\"  \"-\"  \"-\"  \"-\"\n",
       " \"-\"  \"-\"  \"X\"  \"X\"  \"X\"  \"-\"  \"-\"\n",
       " \"-\"  \"X\"  \"O\"  \"X\"  \"O\"  \"-\"  \"-\""
      ]
     },
     "metadata": {},
     "output_type": "display_data"
    },
    {
     "name": "stdout",
     "output_type": "stream",
     "text": [
      "Moving: 2\n",
      "\n"
     ]
    },
    {
     "data": {
      "text/plain": [
       "6×7 Array{String,2}:\n",
       " \"-\"  \"-\"  \"-\"  \"-\"  \"-\"  \"-\"  \"-\"\n",
       " \"-\"  \"-\"  \"-\"  \"-\"  \"-\"  \"-\"  \"-\"\n",
       " \"-\"  \"-\"  \"-\"  \"O\"  \"-\"  \"-\"  \"-\"\n",
       " \"-\"  \"-\"  \"-\"  \"O\"  \"-\"  \"-\"  \"-\"\n",
       " \"-\"  \"O\"  \"X\"  \"X\"  \"X\"  \"-\"  \"-\"\n",
       " \"-\"  \"X\"  \"O\"  \"X\"  \"O\"  \"-\"  \"-\""
      ]
     },
     "metadata": {},
     "output_type": "display_data"
    },
    {
     "name": "stdout",
     "output_type": "stream",
     "text": [
      "Moving: 2\n",
      "\n",
      "Your move: stdin> 6\n"
     ]
    },
    {
     "data": {
      "text/plain": [
       "6×7 Array{String,2}:\n",
       " \"-\"  \"-\"  \"-\"  \"-\"  \"-\"  \"-\"  \"-\"\n",
       " \"-\"  \"-\"  \"-\"  \"-\"  \"-\"  \"-\"  \"-\"\n",
       " \"-\"  \"-\"  \"-\"  \"O\"  \"-\"  \"-\"  \"-\"\n",
       " \"-\"  \"-\"  \"-\"  \"O\"  \"-\"  \"-\"  \"-\"\n",
       " \"-\"  \"O\"  \"X\"  \"X\"  \"X\"  \"-\"  \"-\"\n",
       " \"-\"  \"X\"  \"O\"  \"X\"  \"O\"  \"X\"  \"-\""
      ]
     },
     "metadata": {},
     "output_type": "display_data"
    },
    {
     "name": "stdout",
     "output_type": "stream",
     "text": [
      "Moving: 6\n",
      "\n"
     ]
    },
    {
     "data": {
      "text/plain": [
       "6×7 Array{String,2}:\n",
       " \"-\"  \"-\"  \"-\"  \"-\"  \"-\"  \"-\"  \"-\"\n",
       " \"-\"  \"-\"  \"-\"  \"-\"  \"-\"  \"-\"  \"-\"\n",
       " \"-\"  \"-\"  \"-\"  \"O\"  \"-\"  \"-\"  \"-\"\n",
       " \"-\"  \"-\"  \"-\"  \"O\"  \"-\"  \"-\"  \"-\"\n",
       " \"-\"  \"O\"  \"X\"  \"X\"  \"X\"  \"O\"  \"-\"\n",
       " \"-\"  \"X\"  \"O\"  \"X\"  \"O\"  \"X\"  \"-\""
      ]
     },
     "metadata": {},
     "output_type": "display_data"
    },
    {
     "name": "stdout",
     "output_type": "stream",
     "text": [
      "Moving: 6\n",
      "\n",
      "Your move: "
     ]
    }
   ],
   "source": [
    "runGame(true, false, 7, 6) # (monte_carlo_enabled, random_play_enabled, width, height)"
   ]
  },
  {
   "cell_type": "code",
   "execution_count": null,
   "metadata": {},
   "outputs": [],
   "source": []
  },
  {
   "cell_type": "code",
   "execution_count": null,
   "metadata": {},
   "outputs": [],
   "source": []
  }
 ],
 "metadata": {
  "kernelspec": {
   "display_name": "Julia 1.1.0",
   "language": "julia",
   "name": "julia-1.1"
  },
  "language_info": {
   "file_extension": ".jl",
   "mimetype": "application/julia",
   "name": "julia",
   "version": "1.1.0"
  }
 },
 "nbformat": 4,
 "nbformat_minor": 2
}
